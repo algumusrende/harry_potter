{
 "cells": [
  {
   "cell_type": "code",
   "execution_count": 56,
   "id": "0f6a4fa4-b750-4d63-984b-e77b7ae26d3c",
   "metadata": {},
   "outputs": [],
   "source": [
    "# Import libraries\n",
    "import pandas as pd\n",
    "import numpy as np\n",
    "import re\n",
    "import time\n",
    "import json\n",
    "from selenium import webdriver\n",
    "from selenium.webdriver.chrome.service import Service\n",
    "from selenium.webdriver.common.by import By"
   ]
  },
  {
   "cell_type": "code",
   "execution_count": null,
   "id": "8d94a6a8-180a-4bd6-810b-56e9959a9f7c",
   "metadata": {
    "tags": []
   },
   "outputs": [],
   "source": []
  },
  {
   "cell_type": "markdown",
   "id": "e937cbb7-a655-4058-a0a9-dce24fd1c549",
   "metadata": {},
   "source": [
    "## Scraping Characters"
   ]
  },
  {
   "cell_type": "code",
   "execution_count": 57,
   "id": "9f866e7c-60b7-476f-864d-9e40ff72f4e7",
   "metadata": {},
   "outputs": [],
   "source": [
    "# Create driver\n",
    "service = Service()\n",
    "options = webdriver.ChromeOptions()\n",
    "driver = webdriver.Chrome(service=service, options=options)\n",
    "\n",
    "# Go to the character page\n",
    "url = 'https://www.listchallenges.com/all-harry-potter-characters'\n",
    "driver.get(url)\n",
    "\n",
    "# Get buttons of pages\n",
    "page_num_buttons = driver.find_elements(By.XPATH, '//*[@id=\"MainContent_MainContent_pager\"]/a')\n",
    "\n",
    "pages = []\n",
    "for page in page_num_buttons:\n",
    "    page_url = page.get_attribute('href')\n",
    "    pages.append(page_url)\n"
   ]
  },
  {
   "cell_type": "code",
   "execution_count": 58,
   "id": "d90bdca6-0044-4a79-84cf-fd86597f8e72",
   "metadata": {},
   "outputs": [],
   "source": [
    "# Extracte character pages and saving\n",
    "characters = []\n",
    "for page_url in pages:\n",
    "    \n",
    "    driver.get(page_url)\n",
    "    \n",
    "    cha_elem = driver.find_elements(By.CLASS_NAME, 'item-name')\n",
    "    \n",
    "    for cha in cha_elem:\n",
    "        character_name = cha.text\n",
    "        characters.append(character_name)\n",
    "\n",
    "driver.quit()"
   ]
  },
  {
   "cell_type": "code",
   "execution_count": 59,
   "id": "37ee8a6e-20a2-478f-b43e-9a5464595bef",
   "metadata": {},
   "outputs": [],
   "source": [
    "#Create DataFrame for names\n",
    "characters_df = pd.DataFrame(characters, columns=['names'])"
   ]
  },
  {
   "cell_type": "code",
   "execution_count": 60,
   "id": "8904be7a-9403-4b7d-adbc-06f1391916c8",
   "metadata": {},
   "outputs": [],
   "source": [
    "# Eleminate extra information that some columns had\n",
    "characters_df.names = characters_df.names.apply(lambda x: x.split('-')[0])\n",
    "\n",
    "# Extracte first names\n",
    "characters_df['first_name'] = characters_df.names.apply(lambda x: x.split(' ')[0])"
   ]
  },
  {
   "cell_type": "code",
   "execution_count": 61,
   "id": "59b7ac1b-8341-4816-b111-282b79aaa5c7",
   "metadata": {},
   "outputs": [],
   "source": [
    "# Extracte last names\n",
    "last_names = []\n",
    "for name in characters_df.names:\n",
    "    try:\n",
    "        last_names.append(name.split(' ')[1])\n",
    "    except:\n",
    "        last_names.append('')\n",
    "\n",
    "# Create new column for last names\n",
    "characters_df['last_name'] = last_names"
   ]
  },
  {
   "cell_type": "code",
   "execution_count": 62,
   "id": "4c796ee4-cc1f-4c8c-85a3-01e680dc9acb",
   "metadata": {},
   "outputs": [
    {
     "data": {
      "text/html": [
       "<div>\n",
       "<style scoped>\n",
       "    .dataframe tbody tr th:only-of-type {\n",
       "        vertical-align: middle;\n",
       "    }\n",
       "\n",
       "    .dataframe tbody tr th {\n",
       "        vertical-align: top;\n",
       "    }\n",
       "\n",
       "    .dataframe thead th {\n",
       "        text-align: right;\n",
       "    }\n",
       "</style>\n",
       "<table border=\"1\" class=\"dataframe\">\n",
       "  <thead>\n",
       "    <tr style=\"text-align: right;\">\n",
       "      <th></th>\n",
       "      <th>names</th>\n",
       "      <th>first_name</th>\n",
       "      <th>last_name</th>\n",
       "    </tr>\n",
       "  </thead>\n",
       "  <tbody>\n",
       "    <tr>\n",
       "      <th>0</th>\n",
       "      <td>Harry Potter</td>\n",
       "      <td>Harry</td>\n",
       "      <td>Potter</td>\n",
       "    </tr>\n",
       "    <tr>\n",
       "      <th>1</th>\n",
       "      <td>Ron Weasley</td>\n",
       "      <td>Ron</td>\n",
       "      <td>Weasley</td>\n",
       "    </tr>\n",
       "    <tr>\n",
       "      <th>2</th>\n",
       "      <td>Hermione Granger</td>\n",
       "      <td>Hermione</td>\n",
       "      <td>Granger</td>\n",
       "    </tr>\n",
       "    <tr>\n",
       "      <th>3</th>\n",
       "      <td>Rubeus Hagrid</td>\n",
       "      <td>Rubeus</td>\n",
       "      <td>Hagrid</td>\n",
       "    </tr>\n",
       "    <tr>\n",
       "      <th>4</th>\n",
       "      <td>Albus Dumbledore</td>\n",
       "      <td>Albus</td>\n",
       "      <td>Dumbledore</td>\n",
       "    </tr>\n",
       "  </tbody>\n",
       "</table>\n",
       "</div>"
      ],
      "text/plain": [
       "              names first_name   last_name\n",
       "0      Harry Potter      Harry      Potter\n",
       "1       Ron Weasley        Ron     Weasley\n",
       "2  Hermione Granger   Hermione     Granger\n",
       "3     Rubeus Hagrid     Rubeus      Hagrid\n",
       "4  Albus Dumbledore      Albus  Dumbledore"
      ]
     },
     "execution_count": 62,
     "metadata": {},
     "output_type": "execute_result"
    }
   ],
   "source": [
    "characters_df.head()"
   ]
  },
  {
   "cell_type": "code",
   "execution_count": 63,
   "id": "9b2446fb-623b-41c1-8f7c-57926f75b913",
   "metadata": {},
   "outputs": [],
   "source": [
    "## Scraping from another source with more names\n",
    "driver = webdriver.Chrome(service=service, options=options)\n",
    "\n",
    "# Go to the character page\n",
    "url = 'http://magical-menagerie.com/wizardry/full-character-listing/'\n",
    "driver.get(url)\n",
    "\n",
    "# Get elements\n",
    "elements = driver.find_element(By.CLASS_NAME, 'postcontent')\n",
    "sub_elem = elements.find_elements(By.TAG_NAME, 'p')"
   ]
  },
  {
   "cell_type": "code",
   "execution_count": 64,
   "id": "288ad7ef-594d-4f24-b50e-5b2ab973a854",
   "metadata": {},
   "outputs": [],
   "source": [
    "# Extractetags which holds names\n",
    "tags = [element.find_elements(By.TAG_NAME, 'strong') for element in sub_elem]\n",
    "\n",
    "# Eleminate empty results\n",
    "tags_upd = [elem for elem in tags if elem != []]\n",
    "\n",
    "# Extracte names\n",
    "names = [{'names':t.text} for tag in tags_upd[1:-1] for t in tag if t.text != '']\n",
    "\n",
    "time.sleep(3)\n",
    "driver.quit()"
   ]
  },
  {
   "cell_type": "code",
   "execution_count": 65,
   "id": "9230199a-ccd1-432f-91f0-ba00a9d1c8b9",
   "metadata": {},
   "outputs": [],
   "source": [
    "# DataFrame for names\n",
    "character_names = pd.DataFrame(names)"
   ]
  },
  {
   "cell_type": "code",
   "execution_count": 66,
   "id": "0405b88f-ecaf-43c0-8f82-37c75ba8d865",
   "metadata": {},
   "outputs": [],
   "source": [
    "# Delete paranthesis and what is inside them\n",
    "character_names['names'] = character_names['names'].apply(lambda x: re.sub('[\\(].*?[\\)]','', x))\n",
    "\n",
    "# Make new column for last names\n",
    "character_names['last_name'] = character_names['names'].apply(lambda x: x.split(', ', 1)[0])"
   ]
  },
  {
   "cell_type": "code",
   "execution_count": 67,
   "id": "e8566dd2-b551-4c48-ac2d-19afa0a1c9e7",
   "metadata": {},
   "outputs": [],
   "source": [
    "# Extracte first names\n",
    "first_names= []\n",
    "for name in character_names['names']:\n",
    "    try:\n",
    "        first_names.append(name.split(', ',1)[1])\n",
    "    except:\n",
    "        first_names.append('')\n",
    "        \n",
    "# Create new column for first names       \n",
    "character_names['first_name'] = first_names"
   ]
  },
  {
   "cell_type": "code",
   "execution_count": 68,
   "id": "df2d2c98-fbf1-42f2-a910-4cbc0caeeef2",
   "metadata": {},
   "outputs": [],
   "source": [
    "# Clean first_name column\n",
    "character_names.first_name = character_names.first_name.str.replace('-','')\n",
    "character_names.first_name = character_names.first_name.str.replace('–','')\n",
    "character_names.first_name = character_names.first_name.str.replace('?','')\n",
    "character_names.first_name = character_names.first_name.str.strip(' ')\n",
    "\n",
    "# Clean last_name column\n",
    "character_names.last_name = character_names.last_name.str.replace('-','')\n",
    "character_names.last_name = character_names.last_name.str.replace('–','')\n",
    "character_names.last_name = character_names.last_name.str.replace('?','')\n",
    "character_names.last_name = character_names.last_name.str.strip(' ')"
   ]
  },
  {
   "cell_type": "code",
   "execution_count": 69,
   "id": "232821b8-cf63-46fd-8bab-2ecb82536dfa",
   "metadata": {},
   "outputs": [],
   "source": [
    "# Update names column\n",
    "character_names['names'] = character_names.first_name + ' ' + character_names.last_name"
   ]
  },
  {
   "cell_type": "code",
   "execution_count": 70,
   "id": "7be7f8e2-0865-4cab-ad6e-85a92c53d618",
   "metadata": {},
   "outputs": [
    {
     "data": {
      "text/html": [
       "<div>\n",
       "<style scoped>\n",
       "    .dataframe tbody tr th:only-of-type {\n",
       "        vertical-align: middle;\n",
       "    }\n",
       "\n",
       "    .dataframe tbody tr th {\n",
       "        vertical-align: top;\n",
       "    }\n",
       "\n",
       "    .dataframe thead th {\n",
       "        text-align: right;\n",
       "    }\n",
       "</style>\n",
       "<table border=\"1\" class=\"dataframe\">\n",
       "  <thead>\n",
       "    <tr style=\"text-align: right;\">\n",
       "      <th></th>\n",
       "      <th>names</th>\n",
       "      <th>last_name</th>\n",
       "      <th>first_name</th>\n",
       "    </tr>\n",
       "  </thead>\n",
       "  <tbody>\n",
       "    <tr>\n",
       "      <th>0</th>\n",
       "      <td>Euan Abercrombie</td>\n",
       "      <td>Abercrombie</td>\n",
       "      <td>Euan</td>\n",
       "    </tr>\n",
       "    <tr>\n",
       "      <th>1</th>\n",
       "      <td>Steward Ackerley</td>\n",
       "      <td>Ackerley</td>\n",
       "      <td>Steward</td>\n",
       "    </tr>\n",
       "    <tr>\n",
       "      <th>2</th>\n",
       "      <td>Falcon Aesalon</td>\n",
       "      <td>Aesalon</td>\n",
       "      <td>Falcon</td>\n",
       "    </tr>\n",
       "    <tr>\n",
       "      <th>3</th>\n",
       "      <td>Agnes</td>\n",
       "      <td>Agnes</td>\n",
       "      <td></td>\n",
       "    </tr>\n",
       "    <tr>\n",
       "      <th>4</th>\n",
       "      <td>Cornelius Agrippa</td>\n",
       "      <td>Agrippa</td>\n",
       "      <td>Cornelius</td>\n",
       "    </tr>\n",
       "  </tbody>\n",
       "</table>\n",
       "</div>"
      ],
      "text/plain": [
       "               names    last_name first_name\n",
       "0   Euan Abercrombie  Abercrombie       Euan\n",
       "1   Steward Ackerley     Ackerley    Steward\n",
       "2     Falcon Aesalon      Aesalon     Falcon\n",
       "3              Agnes        Agnes           \n",
       "4  Cornelius Agrippa      Agrippa  Cornelius"
      ]
     },
     "execution_count": 70,
     "metadata": {},
     "output_type": "execute_result"
    }
   ],
   "source": [
    "character_names.head()"
   ]
  },
  {
   "cell_type": "code",
   "execution_count": 88,
   "id": "216dbfe7-d6c0-46b0-b3fc-d13cb6324f0e",
   "metadata": {},
   "outputs": [],
   "source": [
    "# Concatenate two DataFrame to one\n",
    "combined_df = pd.concat([character_names,characters_df], axis=0, ignore_index=True)"
   ]
  },
  {
   "cell_type": "code",
   "execution_count": 89,
   "id": "ecc6b27b",
   "metadata": {},
   "outputs": [],
   "source": [
    "combined_df = combined_df.drop_duplicates(subset=[\"names\"])"
   ]
  },
  {
   "cell_type": "code",
   "execution_count": 90,
   "id": "da1d17be-054a-4094-9f63-6fa328a4c55b",
   "metadata": {},
   "outputs": [],
   "source": [
    "# Export data frame\n",
    "combined_df.to_csv('characters.csv', index=False)"
   ]
  },
  {
   "cell_type": "code",
   "execution_count": null,
   "id": "ac80a812-9bac-47dd-81a1-3dd335120309",
   "metadata": {},
   "outputs": [],
   "source": []
  }
 ],
 "metadata": {
  "kernelspec": {
   "display_name": "scraper",
   "language": "python",
   "name": "scraper"
  },
  "language_info": {
   "codemirror_mode": {
    "name": "ipython",
    "version": 3
   },
   "file_extension": ".py",
   "mimetype": "text/x-python",
   "name": "python",
   "nbconvert_exporter": "python",
   "pygments_lexer": "ipython3",
   "version": "3.10.11"
  }
 },
 "nbformat": 4,
 "nbformat_minor": 5
}
